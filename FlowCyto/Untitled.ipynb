{
 "cells": [
  {
   "cell_type": "code",
   "execution_count": 1,
   "metadata": {
    "collapsed": true
   },
   "outputs": [],
   "source": [
    "from __future__ import division\n",
    "import pylab as plt\n",
    "import FlowCytometryTools\n",
    "from FlowCytometryTools import test_data_dir, test_data_file, FCMeasurement, FCPlate, ThresholdGate, PolyGate\n",
    "from sklearn.cluster import KMeans, MeanShift, estimate_bandwidth\n",
    "from sklearn.linear_model import LogisticRegression\n",
    "from sklearn.neighbors import KernelDensity\n",
    "from sklearn.cross_validation import train_test_split, cross_val_score\n",
    "from sklearn.preprocessing import StandardScaler\n",
    "from sklearn.grid_search import GridSearchCV\n",
    "from sklearn import metrics\n",
    "import FlowFunctions as ff\n",
    "import scipy.signal as signal\n",
    "import pandas as pd \n",
    "from scipy.sparse import hstack\n",
    "import numpy as np\n",
    "from scipy.stats import gaussian_kde\n",
    "\n",
    "%matplotlib inline"
   ]
  },
  {
   "cell_type": "code",
   "execution_count": 9,
   "metadata": {
    "collapsed": false
   },
   "outputs": [
    {
     "name": "stdout",
     "output_type": "stream",
     "text": [
      "   Pacific Blue-A     PI (B)-A\n",
      "0      714.003479   -91.240189\n",
      "1     -417.076721  1502.406494\n",
      "2      -29.831207  -309.194946\n",
      "3      195.931274  -356.699219\n",
      "4     -374.581451    -7.935900\n",
      "5     -102.256042  -447.691956\n",
      "6      383.081848  5868.368652\n",
      "7      374.581451  -218.092972\n",
      "8      992.845825  9546.267578\n",
      "9      255.509918   952.282593\n"
     ]
    },
    {
     "data": {
      "image/png": "[encoded data removed]",
      "text/plain": [
       "<matplotlib.figure.Figure at 0x10b6dbc10>"
      ]
     },
     "metadata": {},
     "output_type": "display_data"
    }
   ],
   "source": [
    "plate = FCPlate.from_dir(ID='Demo Plate', path= '/Users/WRShoemaker/github/Task2/FlowCyto/20151210/Will_CTCHchstFVD_test_121015/', parser='name')\n",
    "plate = plate.transform('hlog', channels=['FSC-A', 'SSC-A', 'PI (B)-A', 'Alexa Fluor 488-A', 'Pacific Blue-A'])\n",
    "plate = plate.dropna()\n",
    "print plate['A3'].data[['Pacific Blue-A', 'PI (B)-A']][:10]\n",
    "plate['C3'].plot('PI (B)-A', bins=100, color='green');\n"
   ]
  },
  {
   "cell_type": "code",
   "execution_count": null,
   "metadata": {
    "collapsed": true
   },
   "outputs": [],
   "source": []
  },
  {
   "cell_type": "code",
   "execution_count": null,
   "metadata": {
    "collapsed": true
   },
   "outputs": [],
   "source": []
  }
 ],
 "metadata": {
  "kernelspec": {
   "display_name": "Python 2",
   "language": "python",
   "name": "python2"
  },
  "language_info": {
   "codemirror_mode": {
    "name": "ipython",
    "version": 2
   },
   "file_extension": ".py",
   "mimetype": "text/x-python",
   "name": "python",
   "nbconvert_exporter": "python",
   "pygments_lexer": "ipython2",
   "version": "2.7.11"
  }
 },
 "nbformat": 4,
 "nbformat_minor": 0
}
